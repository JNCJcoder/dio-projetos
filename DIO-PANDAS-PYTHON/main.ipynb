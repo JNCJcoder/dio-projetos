{
 "cells": [
  {
   "cell_type": "markdown",
   "source": [
    "# DIO - Análise de dados com Python e Pandas"
   ],
   "metadata": {}
  },
  {
   "cell_type": "code",
   "execution_count": 15,
   "source": [
    "import locale\r\n",
    "import pandas as pd\r\n",
    "import matplotlib.pyplot as plt\r\n",
    "\r\n",
    "locale.setlocale(locale.LC_ALL, 'pt_BR.UTF-8')"
   ],
   "outputs": [
    {
     "output_type": "execute_result",
     "data": {
      "text/plain": [
       "'pt_BR.UTF-8'"
      ]
     },
     "metadata": {},
     "execution_count": 15
    }
   ],
   "metadata": {}
  },
  {
   "cell_type": "code",
   "execution_count": 16,
   "source": [
    "# Fonte: https://dados.gov.br/dataset/execucao-de-despesas-janeiro-2018\r\n",
    "data = pd.read_csv('ifrr-despesas-janeiro-2018.csv', error_bad_lines=False, sep=\";\")"
   ],
   "outputs": [],
   "metadata": {}
  },
  {
   "cell_type": "code",
   "execution_count": 17,
   "source": [
    "# Retirando colunas que não serão usadas\r\n",
    "data = data.drop([\"Ano e mês do lançamento\", \"Nome Órgão Superior\", \"Código Órgão Superior\", \"Código Órgão Subordinado\", \"Nome Órgão Subordinado\", \"Código Gestão\", \"Código Unidade Orçamentária\"], axis = 1)"
   ],
   "outputs": [],
   "metadata": {}
  },
  {
   "cell_type": "code",
   "execution_count": 18,
   "source": [
    "# Convertendo dados monetários\r\n",
    "\r\n",
    "def convertCurrency(currency):\r\n",
    "    currency = float(currency.replace(',', '.'))\r\n",
    "    return f'{currency:.2f}'\r\n",
    "\r\n",
    "for column in ('Valor Empenhado (R$)', 'Valor Liquidado (R$)', 'Valor Pago (R$)', 'Valor Restos a Pagar Inscritos (R$)', 'Valor Restos a Pagar Cancelado (R$)', 'Valor Restos a Pagar Pagos (R$)'):\r\n",
    "    data[column] = data[column].astype(str)\r\n",
    "    data[column] = data[column].apply(convertCurrency).astype(float)\r\n"
   ],
   "outputs": [],
   "metadata": {}
  },
  {
   "cell_type": "markdown",
   "source": [
    "## Teste de dados"
   ],
   "metadata": {}
  },
  {
   "cell_type": "code",
   "execution_count": 19,
   "source": [
    "# Verificando se existem dados nulos\r\n",
    "data.isnull().sum()"
   ],
   "outputs": [
    {
     "output_type": "execute_result",
     "data": {
      "text/plain": [
       "Código Unidade Gestora                 0\n",
       "Nome Unidade Gestora                   0\n",
       "Nome Gestão                            0\n",
       "Nome Unidade Orçamentária              0\n",
       "Código Função                          0\n",
       "Nome Função                            0\n",
       "Código Subfução                        0\n",
       "Nome Subfunção                         0\n",
       "Código Programa Orçamentário           0\n",
       "Nome Programa Orçamentário             0\n",
       "Código Ação                            0\n",
       "Nome Ação                              0\n",
       "Código Programa Governo                0\n",
       "Nome Programa Governo                  0\n",
       "Código Grupo de Despesa                0\n",
       "Nome Grupo de Despesa                  0\n",
       "Código Elemento de Despesa             0\n",
       "Nome Elemento de Despesa               0\n",
       "Código Modalidade da Despesa           0\n",
       "Modalidade da Despesa                  0\n",
       "Valor Empenhado (R$)                   0\n",
       "Valor Liquidado (R$)                   0\n",
       "Valor Pago (R$)                        0\n",
       "Valor Restos a Pagar Inscritos (R$)    0\n",
       "Valor Restos a Pagar Cancelado (R$)    0\n",
       "Valor Restos a Pagar Pagos (R$)        0\n",
       "dtype: int64"
      ]
     },
     "metadata": {},
     "execution_count": 19
    }
   ],
   "metadata": {}
  },
  {
   "cell_type": "code",
   "execution_count": 20,
   "source": [
    "# Exibindo detalhes de cada coluna\r\n",
    "data.info()"
   ],
   "outputs": [
    {
     "output_type": "stream",
     "name": "stdout",
     "text": [
      "<class 'pandas.core.frame.DataFrame'>\n",
      "RangeIndex: 66 entries, 0 to 65\n",
      "Data columns (total 26 columns):\n",
      " #   Column                               Non-Null Count  Dtype  \n",
      "---  ------                               --------------  -----  \n",
      " 0   Código Unidade Gestora               66 non-null     int64  \n",
      " 1   Nome Unidade Gestora                 66 non-null     object \n",
      " 2   Nome Gestão                          66 non-null     object \n",
      " 3   Nome Unidade Orçamentária            66 non-null     object \n",
      " 4   Código Função                        66 non-null     int64  \n",
      " 5   Nome Função                          66 non-null     object \n",
      " 6   Código Subfução                      66 non-null     int64  \n",
      " 7   Nome Subfunção                       66 non-null     object \n",
      " 8   Código Programa Orçamentário         66 non-null     int64  \n",
      " 9   Nome Programa Orçamentário           66 non-null     object \n",
      " 10  Código Ação                          66 non-null     object \n",
      " 11  Nome Ação                            66 non-null     object \n",
      " 12  Código Programa Governo              66 non-null     int64  \n",
      " 13  Nome Programa Governo                66 non-null     object \n",
      " 14  Código Grupo de Despesa              66 non-null     int64  \n",
      " 15  Nome Grupo de Despesa                66 non-null     object \n",
      " 16  Código Elemento de Despesa           66 non-null     int64  \n",
      " 17  Nome Elemento de Despesa             66 non-null     object \n",
      " 18  Código Modalidade da Despesa         66 non-null     int64  \n",
      " 19  Modalidade da Despesa                66 non-null     object \n",
      " 20  Valor Empenhado (R$)                 66 non-null     float64\n",
      " 21  Valor Liquidado (R$)                 66 non-null     float64\n",
      " 22  Valor Pago (R$)                      66 non-null     float64\n",
      " 23  Valor Restos a Pagar Inscritos (R$)  66 non-null     float64\n",
      " 24  Valor Restos a Pagar Cancelado (R$)  66 non-null     float64\n",
      " 25  Valor Restos a Pagar Pagos (R$)      66 non-null     float64\n",
      "dtypes: float64(6), int64(8), object(12)\n",
      "memory usage: 13.5+ KB\n"
     ]
    }
   ],
   "metadata": {}
  },
  {
   "cell_type": "code",
   "execution_count": 21,
   "source": [
    "# Exibindo os primeiros registros da tabela\r\n",
    "data.head()"
   ],
   "outputs": [
    {
     "output_type": "execute_result",
     "data": {
      "text/html": [
       "<div>\n",
       "<style scoped>\n",
       "    .dataframe tbody tr th:only-of-type {\n",
       "        vertical-align: middle;\n",
       "    }\n",
       "\n",
       "    .dataframe tbody tr th {\n",
       "        vertical-align: top;\n",
       "    }\n",
       "\n",
       "    .dataframe thead th {\n",
       "        text-align: right;\n",
       "    }\n",
       "</style>\n",
       "<table border=\"1\" class=\"dataframe\">\n",
       "  <thead>\n",
       "    <tr style=\"text-align: right;\">\n",
       "      <th></th>\n",
       "      <th>Código Unidade Gestora</th>\n",
       "      <th>Nome Unidade Gestora</th>\n",
       "      <th>Nome Gestão</th>\n",
       "      <th>Nome Unidade Orçamentária</th>\n",
       "      <th>Código Função</th>\n",
       "      <th>Nome Função</th>\n",
       "      <th>Código Subfução</th>\n",
       "      <th>Nome Subfunção</th>\n",
       "      <th>Código Programa Orçamentário</th>\n",
       "      <th>Nome Programa Orçamentário</th>\n",
       "      <th>...</th>\n",
       "      <th>Código Elemento de Despesa</th>\n",
       "      <th>Nome Elemento de Despesa</th>\n",
       "      <th>Código Modalidade da Despesa</th>\n",
       "      <th>Modalidade da Despesa</th>\n",
       "      <th>Valor Empenhado (R$)</th>\n",
       "      <th>Valor Liquidado (R$)</th>\n",
       "      <th>Valor Pago (R$)</th>\n",
       "      <th>Valor Restos a Pagar Inscritos (R$)</th>\n",
       "      <th>Valor Restos a Pagar Cancelado (R$)</th>\n",
       "      <th>Valor Restos a Pagar Pagos (R$)</th>\n",
       "    </tr>\n",
       "  </thead>\n",
       "  <tbody>\n",
       "    <tr>\n",
       "      <th>0</th>\n",
       "      <td>158350</td>\n",
       "      <td>INST.FED.RORAIMA - CAMPUS BOA VISTA</td>\n",
       "      <td>INST.FED.DE EDUC.,CIENC.E TEC.DE RORAIMA</td>\n",
       "      <td>INST.FED.DE EDUC.,CIENC.E TEC.DE RORAIMA</td>\n",
       "      <td>12</td>\n",
       "      <td>EDUCACAO</td>\n",
       "      <td>363</td>\n",
       "      <td>ENSINO PROFISSIONAL</td>\n",
       "      <td>2080</td>\n",
       "      <td>EDUCACAO DE QUALIDADE PARA TODOS</td>\n",
       "      <td>...</td>\n",
       "      <td>18</td>\n",
       "      <td>AUXILIO FINANCEIRO A ESTUDANTES</td>\n",
       "      <td>90</td>\n",
       "      <td>APLICACOES DIRETAS</td>\n",
       "      <td>0.00</td>\n",
       "      <td>0.00</td>\n",
       "      <td>0.00</td>\n",
       "      <td>0.0</td>\n",
       "      <td>35781.20</td>\n",
       "      <td>0.00</td>\n",
       "    </tr>\n",
       "    <tr>\n",
       "      <th>1</th>\n",
       "      <td>158510</td>\n",
       "      <td>INST.FED.RORAIMA - CAMPUS AMAJARI</td>\n",
       "      <td>INST.FED.DE EDUC.,CIENC.E TEC.DE RORAIMA</td>\n",
       "      <td>INST.FED.DE EDUC.,CIENC.E TEC.DE RORAIMA</td>\n",
       "      <td>12</td>\n",
       "      <td>EDUCACAO</td>\n",
       "      <td>363</td>\n",
       "      <td>ENSINO PROFISSIONAL</td>\n",
       "      <td>2080</td>\n",
       "      <td>EDUCACAO DE QUALIDADE PARA TODOS</td>\n",
       "      <td>...</td>\n",
       "      <td>14</td>\n",
       "      <td>DIARIAS - PESSOAL CIVIL</td>\n",
       "      <td>90</td>\n",
       "      <td>APLICACOES DIRETAS</td>\n",
       "      <td>0.00</td>\n",
       "      <td>0.00</td>\n",
       "      <td>0.00</td>\n",
       "      <td>0.0</td>\n",
       "      <td>58.66</td>\n",
       "      <td>0.00</td>\n",
       "    </tr>\n",
       "    <tr>\n",
       "      <th>2</th>\n",
       "      <td>158152</td>\n",
       "      <td>INST.FED.DE EDUC.,CIENC.E TEC.DE RORAIMA</td>\n",
       "      <td>INST.FED.DE EDUC.,CIENC.E TEC.DE RORAIMA</td>\n",
       "      <td>INST.FED.DE EDUC.,CIENC.E TEC.DE RORAIMA</td>\n",
       "      <td>12</td>\n",
       "      <td>EDUCACAO</td>\n",
       "      <td>363</td>\n",
       "      <td>ENSINO PROFISSIONAL</td>\n",
       "      <td>2109</td>\n",
       "      <td>PROGRAMA DE GESTAO E MANUTENCAO DO MINISTERIO ...</td>\n",
       "      <td>...</td>\n",
       "      <td>91</td>\n",
       "      <td>SENTENCAS JUDICIAIS</td>\n",
       "      <td>90</td>\n",
       "      <td>APLICACOES DIRETAS</td>\n",
       "      <td>12302.92</td>\n",
       "      <td>3075.73</td>\n",
       "      <td>3075.73</td>\n",
       "      <td>0.0</td>\n",
       "      <td>0.00</td>\n",
       "      <td>0.00</td>\n",
       "    </tr>\n",
       "    <tr>\n",
       "      <th>3</th>\n",
       "      <td>158152</td>\n",
       "      <td>INST.FED.DE EDUC.,CIENC.E TEC.DE RORAIMA</td>\n",
       "      <td>INST.FED.DE EDUC.,CIENC.E TEC.DE RORAIMA</td>\n",
       "      <td>INST.FED.DE EDUC.,CIENC.E TEC.DE RORAIMA</td>\n",
       "      <td>12</td>\n",
       "      <td>EDUCACAO</td>\n",
       "      <td>368</td>\n",
       "      <td>EDUCACAO BASICA</td>\n",
       "      <td>2030</td>\n",
       "      <td>EDUCACAO BASICA</td>\n",
       "      <td>...</td>\n",
       "      <td>39</td>\n",
       "      <td>OUTROS SERVICOS DE TERCEIROS - PESSOA JURIDIC</td>\n",
       "      <td>90</td>\n",
       "      <td>APLICACOES DIRETAS</td>\n",
       "      <td>0.00</td>\n",
       "      <td>0.00</td>\n",
       "      <td>0.00</td>\n",
       "      <td>0.0</td>\n",
       "      <td>25270.00</td>\n",
       "      <td>0.00</td>\n",
       "    </tr>\n",
       "    <tr>\n",
       "      <th>4</th>\n",
       "      <td>158350</td>\n",
       "      <td>INST.FED.RORAIMA - CAMPUS BOA VISTA</td>\n",
       "      <td>INST.FED.DE EDUC.,CIENC.E TEC.DE RORAIMA</td>\n",
       "      <td>INST.FED.DE EDUC.,CIENC.E TEC.DE RORAIMA</td>\n",
       "      <td>12</td>\n",
       "      <td>EDUCACAO</td>\n",
       "      <td>363</td>\n",
       "      <td>ENSINO PROFISSIONAL</td>\n",
       "      <td>2080</td>\n",
       "      <td>EDUCACAO DE QUALIDADE PARA TODOS</td>\n",
       "      <td>...</td>\n",
       "      <td>39</td>\n",
       "      <td>OUTROS SERVICOS DE TERCEIROS - PESSOA JURIDIC</td>\n",
       "      <td>90</td>\n",
       "      <td>APLICACOES DIRETAS</td>\n",
       "      <td>8891.36</td>\n",
       "      <td>8882.71</td>\n",
       "      <td>8882.71</td>\n",
       "      <td>0.0</td>\n",
       "      <td>0.00</td>\n",
       "      <td>89401.11</td>\n",
       "    </tr>\n",
       "  </tbody>\n",
       "</table>\n",
       "<p>5 rows × 26 columns</p>\n",
       "</div>"
      ],
      "text/plain": [
       "   Código Unidade Gestora                      Nome Unidade Gestora  \\\n",
       "0                  158350       INST.FED.RORAIMA - CAMPUS BOA VISTA   \n",
       "1                  158510         INST.FED.RORAIMA - CAMPUS AMAJARI   \n",
       "2                  158152  INST.FED.DE EDUC.,CIENC.E TEC.DE RORAIMA   \n",
       "3                  158152  INST.FED.DE EDUC.,CIENC.E TEC.DE RORAIMA   \n",
       "4                  158350       INST.FED.RORAIMA - CAMPUS BOA VISTA   \n",
       "\n",
       "                                Nome Gestão  \\\n",
       "0  INST.FED.DE EDUC.,CIENC.E TEC.DE RORAIMA   \n",
       "1  INST.FED.DE EDUC.,CIENC.E TEC.DE RORAIMA   \n",
       "2  INST.FED.DE EDUC.,CIENC.E TEC.DE RORAIMA   \n",
       "3  INST.FED.DE EDUC.,CIENC.E TEC.DE RORAIMA   \n",
       "4  INST.FED.DE EDUC.,CIENC.E TEC.DE RORAIMA   \n",
       "\n",
       "                  Nome Unidade Orçamentária  Código Função Nome Função  \\\n",
       "0  INST.FED.DE EDUC.,CIENC.E TEC.DE RORAIMA             12    EDUCACAO   \n",
       "1  INST.FED.DE EDUC.,CIENC.E TEC.DE RORAIMA             12    EDUCACAO   \n",
       "2  INST.FED.DE EDUC.,CIENC.E TEC.DE RORAIMA             12    EDUCACAO   \n",
       "3  INST.FED.DE EDUC.,CIENC.E TEC.DE RORAIMA             12    EDUCACAO   \n",
       "4  INST.FED.DE EDUC.,CIENC.E TEC.DE RORAIMA             12    EDUCACAO   \n",
       "\n",
       "   Código Subfução       Nome Subfunção  Código Programa Orçamentário  \\\n",
       "0              363  ENSINO PROFISSIONAL                          2080   \n",
       "1              363  ENSINO PROFISSIONAL                          2080   \n",
       "2              363  ENSINO PROFISSIONAL                          2109   \n",
       "3              368      EDUCACAO BASICA                          2030   \n",
       "4              363  ENSINO PROFISSIONAL                          2080   \n",
       "\n",
       "                          Nome Programa Orçamentário  ...  \\\n",
       "0                   EDUCACAO DE QUALIDADE PARA TODOS  ...   \n",
       "1                   EDUCACAO DE QUALIDADE PARA TODOS  ...   \n",
       "2  PROGRAMA DE GESTAO E MANUTENCAO DO MINISTERIO ...  ...   \n",
       "3                                    EDUCACAO BASICA  ...   \n",
       "4                   EDUCACAO DE QUALIDADE PARA TODOS  ...   \n",
       "\n",
       "  Código Elemento de Despesa                       Nome Elemento de Despesa  \\\n",
       "0                         18                AUXILIO FINANCEIRO A ESTUDANTES   \n",
       "1                         14                        DIARIAS - PESSOAL CIVIL   \n",
       "2                         91                            SENTENCAS JUDICIAIS   \n",
       "3                         39  OUTROS SERVICOS DE TERCEIROS - PESSOA JURIDIC   \n",
       "4                         39  OUTROS SERVICOS DE TERCEIROS - PESSOA JURIDIC   \n",
       "\n",
       "   Código Modalidade da Despesa Modalidade da Despesa  Valor Empenhado (R$)  \\\n",
       "0                            90    APLICACOES DIRETAS                  0.00   \n",
       "1                            90    APLICACOES DIRETAS                  0.00   \n",
       "2                            90    APLICACOES DIRETAS              12302.92   \n",
       "3                            90    APLICACOES DIRETAS                  0.00   \n",
       "4                            90    APLICACOES DIRETAS               8891.36   \n",
       "\n",
       "  Valor Liquidado (R$)  Valor Pago (R$) Valor Restos a Pagar Inscritos (R$)  \\\n",
       "0                 0.00             0.00                                 0.0   \n",
       "1                 0.00             0.00                                 0.0   \n",
       "2              3075.73          3075.73                                 0.0   \n",
       "3                 0.00             0.00                                 0.0   \n",
       "4              8882.71          8882.71                                 0.0   \n",
       "\n",
       "   Valor Restos a Pagar Cancelado (R$) Valor Restos a Pagar Pagos (R$)  \n",
       "0                             35781.20                            0.00  \n",
       "1                                58.66                            0.00  \n",
       "2                                 0.00                            0.00  \n",
       "3                             25270.00                            0.00  \n",
       "4                                 0.00                        89401.11  \n",
       "\n",
       "[5 rows x 26 columns]"
      ]
     },
     "metadata": {},
     "execution_count": 21
    }
   ],
   "metadata": {}
  },
  {
   "cell_type": "code",
   "execution_count": 22,
   "source": [
    "# Exibindo a primeira ocorrencia da tabela\r\n",
    "data.loc[0]"
   ],
   "outputs": [
    {
     "output_type": "execute_result",
     "data": {
      "text/plain": [
       "Código Unidade Gestora                                                            158350\n",
       "Nome Unidade Gestora                                 INST.FED.RORAIMA - CAMPUS BOA VISTA\n",
       "Nome Gestão                                     INST.FED.DE EDUC.,CIENC.E TEC.DE RORAIMA\n",
       "Nome Unidade Orçamentária                       INST.FED.DE EDUC.,CIENC.E TEC.DE RORAIMA\n",
       "Código Função                                                                         12\n",
       "Nome Função                                                                     EDUCACAO\n",
       "Código Subfução                                                                      363\n",
       "Nome Subfunção                                                       ENSINO PROFISSIONAL\n",
       "Código Programa Orçamentário                                                        2080\n",
       "Nome Programa Orçamentário                              EDUCACAO DE QUALIDADE PARA TODOS\n",
       "Código Ação                                                                         2994\n",
       "Nome Ação                              ASSISTENCIA AOS ESTUDANTES DAS INSTITUICOES FE...\n",
       "Código Programa Governo                                                               -1\n",
       "Nome Programa Governo                                                     Sem informação\n",
       "Código Grupo de Despesa                                                                3\n",
       "Nome Grupo de Despesa                                          OUTRAS DESPESAS CORRENTES\n",
       "Código Elemento de Despesa                                                            18\n",
       "Nome Elemento de Despesa                                 AUXILIO FINANCEIRO A ESTUDANTES\n",
       "Código Modalidade da Despesa                                                          90\n",
       "Modalidade da Despesa                                                 APLICACOES DIRETAS\n",
       "Valor Empenhado (R$)                                                                 0.0\n",
       "Valor Liquidado (R$)                                                                 0.0\n",
       "Valor Pago (R$)                                                                      0.0\n",
       "Valor Restos a Pagar Inscritos (R$)                                                  0.0\n",
       "Valor Restos a Pagar Cancelado (R$)                                              35781.2\n",
       "Valor Restos a Pagar Pagos (R$)                                                      0.0\n",
       "Name: 0, dtype: object"
      ]
     },
     "metadata": {},
     "execution_count": 22
    }
   ],
   "metadata": {}
  },
  {
   "cell_type": "markdown",
   "source": [
    "## Análise para Negócio"
   ],
   "metadata": {}
  },
  {
   "cell_type": "code",
   "execution_count": 23,
   "source": [
    "# Valor total gasto em cada elemento de despesa.\r\n",
    "\r\n",
    "valores = data.groupby(\"Nome Elemento de Despesa\")[\"Valor Pago (R$)\"].sum().sort_values(ascending=False)\r\n",
    "valores[\"Valor Total\"] = valores.sum()\r\n",
    "valores.apply(lambda valor: locale.currency(valor, grouping=True, symbol=True))"
   ],
   "outputs": [
    {
     "output_type": "execute_result",
     "data": {
      "text/plain": [
       "Nome Elemento de Despesa\n",
       "VENCIMENTOS E VANTAGENS FIXAS - PESSOAL CIVIL    R$ 5.529.591,84\n",
       "OBRIGACOES PATRONAIS - OP.INTRA-ORCAMENTARIAS    R$ 1.072.367,51\n",
       "APOSENT.RPPS, RESER.REMUNER. E REFOR.MILITAR       R$ 871.201,73\n",
       "AUXILIO-ALIMENTACAO                                R$ 310.836,24\n",
       "INDENIZACOES E RESTITUICOES                        R$ 112.421,22\n",
       "CONTRATACAO P/TEMPO DETERMINADO                     R$ 67.582,91\n",
       "AUXILIO-TRANSPORTE                                  R$ 53.461,43\n",
       "OUTRAS DESPESAS VARIAVEIS - PESSOAL CIVIL           R$ 52.364,91\n",
       "OUTROS BENEF.ASSIST. DO SERVIDOR E DO MILITAR       R$ 52.061,50\n",
       "PENSOES DO RPPS E DO MILITAR                        R$ 51.813,90\n",
       "CONTRATACAO POR TEMPO DETERMINADO                   R$ 32.299,53\n",
       "CONTRIB. A ENTIDADES FECHADAS DE PREVIDENCIA        R$ 12.501,42\n",
       "OUTROS SERVICOS DE TERCEIROS - PESSOA JURIDIC        R$ 8.882,71\n",
       "SENTENCAS JUDICIAIS                                  R$ 3.075,73\n",
       "LOCACAO DE MAO-DE-OBRA                               R$ 2.013,75\n",
       "OBRIGACOES TRIBUTARIAS E CONTRIBUTIVAS                 R$ 970,45\n",
       "RESSARCIMENTO DE DESP. DE PESSOAL REQUISITADO            R$ 0,00\n",
       "PASSAGENS E DESPESAS COM LOCOMOCAO                       R$ 0,00\n",
       "OUTROS SERVIÇOS DE TERCEIROS - PESSOA JURÍDIC            R$ 0,00\n",
       "DIARIAS - PESSOAL CIVIL                                  R$ 0,00\n",
       "OUTROS SERVICOS DE TERCEIROS - PESSOA FISICA             R$ 0,00\n",
       "EQUIPAMENTOS E MATERIAL PERMANENTE                       R$ 0,00\n",
       "AUXILIO FINANCEIRO A ESTUDANTES                          R$ 0,00\n",
       "MATERIAL, BEM OU SERVICO P/ DISTRIB. GRATUITA            R$ 0,00\n",
       "MATERIAL DE CONSUMO                                      R$ 0,00\n",
       "OBRIG.TRIBUT.E CONTRIB-OP.INTRA-ORCAMENTARIAS            R$ 0,00\n",
       "Valor Total                                      R$ 8.233.446,78\n",
       "Name: Valor Pago (R$), dtype: object"
      ]
     },
     "metadata": {},
     "execution_count": 23
    }
   ],
   "metadata": {}
  },
  {
   "cell_type": "code",
   "execution_count": 24,
   "source": [
    "# Valor total empenhado em cada elemento de despesa.\r\n",
    "\r\n",
    "valores = data.groupby(\"Nome Elemento de Despesa\")[\"Valor Empenhado (R$)\"].sum().sort_values(ascending=False)\r\n",
    "valores[\"Valor Total\"] = valores.sum()\r\n",
    "valores.apply(lambda valor: locale.currency(valor, grouping=True, symbol=True))"
   ],
   "outputs": [
    {
     "output_type": "execute_result",
     "data": {
      "text/plain": [
       "Nome Elemento de Despesa\n",
       "VENCIMENTOS E VANTAGENS FIXAS - PESSOAL CIVIL    R$ 22.091.574,36\n",
       "OBRIGACOES PATRONAIS - OP.INTRA-ORCAMENTARIAS     R$ 4.289.470,04\n",
       "APOSENT.RPPS, RESER.REMUNER. E REFOR.MILITAR      R$ 2.613.605,19\n",
       "AUXILIO-ALIMENTACAO                                 R$ 932.508,72\n",
       "CONTRATACAO P/TEMPO DETERMINADO                     R$ 270.412,52\n",
       "AUXILIO-TRANSPORTE                                  R$ 265.134,18\n",
       "INDENIZACOES E RESTITUICOES                         R$ 247.475,38\n",
       "OUTRAS DESPESAS VARIAVEIS - PESSOAL CIVIL           R$ 209.459,64\n",
       "OUTROS BENEF.ASSIST. DO SERVIDOR E DO MILITAR       R$ 167.339,25\n",
       "PENSOES DO RPPS E DO MILITAR                        R$ 155.441,70\n",
       "CONTRATACAO POR TEMPO DETERMINADO                   R$ 117.082,52\n",
       "CONTRIB. A ENTIDADES FECHADAS DE PREVIDENCIA         R$ 50.005,68\n",
       "OUTROS SERVICOS DE TERCEIROS - PESSOA JURIDIC        R$ 24.613,55\n",
       "SENTENCAS JUDICIAIS                                  R$ 12.302,92\n",
       "DIARIAS - PESSOAL CIVIL                              R$ 10.000,00\n",
       "LOCACAO DE MAO-DE-OBRA                                R$ 9.849,48\n",
       "OBRIGACOES TRIBUTARIAS E CONTRIBUTIVAS                R$ 1.716,95\n",
       "OBRIG.TRIBUT.E CONTRIB-OP.INTRA-ORCAMENTARIAS         R$ 1.000,00\n",
       "MATERIAL DE CONSUMO                                     R$ 826,00\n",
       "MATERIAL, BEM OU SERVICO P/ DISTRIB. GRATUITA             R$ 0,00\n",
       "AUXILIO FINANCEIRO A ESTUDANTES                           R$ 0,00\n",
       "OUTROS SERVICOS DE TERCEIROS - PESSOA FISICA              R$ 0,00\n",
       "OUTROS SERVIÇOS DE TERCEIROS - PESSOA JURÍDIC             R$ 0,00\n",
       "PASSAGENS E DESPESAS COM LOCOMOCAO                        R$ 0,00\n",
       "EQUIPAMENTOS E MATERIAL PERMANENTE                        R$ 0,00\n",
       "RESSARCIMENTO DE DESP. DE PESSOAL REQUISITADO             R$ 0,00\n",
       "Valor Total                                      R$ 31.469.818,08\n",
       "Name: Valor Empenhado (R$), dtype: object"
      ]
     },
     "metadata": {},
     "execution_count": 24
    }
   ],
   "metadata": {}
  },
  {
   "cell_type": "code",
   "execution_count": 25,
   "source": [
    "# Quantidade de despesas\r\n",
    "len(data[\"Nome Elemento de Despesa\"].unique())"
   ],
   "outputs": [
    {
     "output_type": "execute_result",
     "data": {
      "text/plain": [
       "26"
      ]
     },
     "metadata": {},
     "execution_count": 25
    }
   ],
   "metadata": {}
  },
  {
   "cell_type": "code",
   "execution_count": 26,
   "source": [
    "# PASSAGENS E DESPESAS COM LOCOMOCAO - Valor Pago\r\n",
    "\r\n",
    "condicao = data[\"Nome Elemento de Despesa\"] == \"PASSAGENS E DESPESAS COM LOCOMOCAO\"\r\n",
    "valor = data.loc[condicao].groupby(\"Nome Elemento de Despesa\")[\"Valor Pago (R$)\"].sum()\r\n",
    "locale.currency(float(valor), grouping=True, symbol=True)"
   ],
   "outputs": [
    {
     "output_type": "execute_result",
     "data": {
      "text/plain": [
       "'R$ 0,00'"
      ]
     },
     "metadata": {},
     "execution_count": 26
    }
   ],
   "metadata": {}
  },
  {
   "cell_type": "code",
   "execution_count": 27,
   "source": [
    "# AUXILIO FINANCEIRO A ESTUDANTES - Valor Pago\r\n",
    "\r\n",
    "condicao = data[\"Nome Elemento de Despesa\"] == \"AUXILIO FINANCEIRO A ESTUDANTES\"\r\n",
    "valor = data.loc[condicao].groupby(\"Nome Elemento de Despesa\")[\"Valor Pago (R$)\"].sum()\r\n",
    "locale.currency(float(valor), grouping=True, symbol=True)"
   ],
   "outputs": [
    {
     "output_type": "execute_result",
     "data": {
      "text/plain": [
       "'R$ 0,00'"
      ]
     },
     "metadata": {},
     "execution_count": 27
    }
   ],
   "metadata": {}
  },
  {
   "cell_type": "markdown",
   "source": [
    "## Grafico dos Dados"
   ],
   "metadata": {}
  },
  {
   "cell_type": "code",
   "execution_count": 39,
   "source": [
    "labels = 'ENSINO PROFISSIONAL', 'EDUCACAO BASICA', 'PROTECAO E BENEFICIOS AO TRABALHADOR', 'FORMACAO DE RECURSOS HUMANOS', 'ATENCAO BASICA', 'PREVIDENCIA DO REGIME ESTATUTARIO', 'OUTROS ENCARGOS ESPECIAIS', \"VALOR TOTAL\"\r\n",
    "\r\n",
    "sizes = [\r\n",
    "    float(data.loc[data[\"Nome Subfunção\"] == \"ENSINO PROFISSIONAL\"].groupby(\"Nome Subfunção\")[\"Valor Pago (R$)\"].sum()),\r\n",
    "    float(data.loc[data[\"Nome Subfunção\"] == \"EDUCACAO BASICA\"].groupby(\"Nome Subfunção\")[\"Valor Pago (R$)\"].sum()), \r\n",
    "    float(data.loc[data[\"Nome Subfunção\"] == \"PROTECAO E BENEFICIOS AO TRABALHADOR\"].groupby(\"Nome Subfunção\")[\"Valor Pago (R$)\"].sum()), \r\n",
    "    float(data.loc[data[\"Nome Subfunção\"] == \"FORMACAO DE RECURSOS HUMANOS\"].groupby(\"Nome Subfunção\")[\"Valor Pago (R$)\"].sum()), \r\n",
    "    float(data.loc[data[\"Nome Subfunção\"] == \"ATENCAO BASICA\"].groupby(\"Nome Subfunção\")[\"Valor Pago (R$)\"].sum()), \r\n",
    "    float(data.loc[data[\"Nome Subfunção\"] == \"PREVIDENCIA DO REGIME ESTATUTARIO\"].groupby(\"Nome Subfunção\")[\"Valor Pago (R$)\"].sum()), \r\n",
    "    float(data.loc[data[\"Nome Subfunção\"] == \"OUTROS ENCARGOS ESPECIAIS\"].groupby(\"Nome Subfunção\")[\"Valor Pago (R$)\"].sum())\r\n",
    "]\r\n",
    "\r\n",
    "total = sum(sizes)\r\n",
    "\r\n",
    "sizespct = [\r\n",
    "    int((sizes[0] / total) * 100),\r\n",
    "    int((sizes[1] / total) * 100),\r\n",
    "    int((sizes[2] / total) * 100),\r\n",
    "    int((sizes[3] / total) * 100),\r\n",
    "    int((sizes[4] / total) * 100),\r\n",
    "    int((sizes[5] / total) * 100),\r\n",
    "    int((sizes[6] / total) * 100),\r\n",
    "    int(100) \r\n",
    "]\r\n",
    "\r\n",
    "data1 = data.groupby(\"Nome Elemento de Despesa\")[\"Valor Pago (R$)\"].sum().sort_values(ascending=True)\r\n",
    "\r\n",
    "fig, ax1 = plt.subplots()\r\n",
    "fig.set_size_inches(10, 5)\r\n",
    "hbars = ax1.barh(labels, sizespct, color='green')\r\n",
    "\r\n",
    "ax1.set_ylabel('Subfunções')\r\n",
    "ax1.set_xlabel('Valor Gasto (em %)')\r\n",
    "ax1.set_title('Gasto total por cada subfunção')\r\n",
    "ax1.set_xlim(0, 100)\r\n",
    "ax1.invert_yaxis()\r\n",
    "ax1.bar_label(hbars,\r\n",
    "            labels=[\r\n",
    "                f'{sizespct[0]}% ({locale.currency(sizes[0], grouping=True, symbol=True)})',\r\n",
    "                f'{sizespct[1]}% ({locale.currency(sizes[1], grouping=True, symbol=True)})',\r\n",
    "                f'{sizespct[2]}% ({locale.currency(sizes[2], grouping=True, symbol=True)})',\r\n",
    "                f'{sizespct[3]}% ({locale.currency(sizes[3], grouping=True, symbol=True)})',\r\n",
    "                f'{sizespct[4]}% ({locale.currency(sizes[4], grouping=True, symbol=True)})',\r\n",
    "                f'{sizespct[5]}% ({locale.currency(sizes[5], grouping=True, symbol=True)})',\r\n",
    "                f'{sizespct[6]}% ({locale.currency(sizes[6], grouping=True, symbol=True)})',\r\n",
    "                f'{sizespct[7]}% ({locale.currency(total, grouping=True, symbol=True)})'\r\n",
    "            ], \r\n",
    "            padding=10, \r\n",
    "            color='r', \r\n",
    "            fontsize=14\r\n",
    ")\r\n",
    "\r\n",
    "plt.show()"
   ],
   "outputs": [
    {
     "output_type": "display_data",
     "data": {
      "image/png": "[encoded data removed]",
      "text/plain": [
       "<Figure size 720x360 with 1 Axes>"
      ]
     },
     "metadata": {
      "needs_background": "light"
     }
    }
   ],
   "metadata": {}
  },
  {
   "cell_type": "code",
   "execution_count": null,
   "source": [
    "labels = \"Empenhado\", \"Liquidado\", \"Pago\", \"Restos a Pagar Inscritos\", \"Restos a Pagar Cancelado\", \"Restos a Pagar Pagos\"\r\n",
    "valor_total = [\r\n",
    "    float(data[\"Valor Empenhado (R$)\"].sum()),\r\n",
    "    float(data[\"Valor Liquidado (R$)\"].sum()),\r\n",
    "    float(data[\"Valor Pago (R$)\"].sum()),\r\n",
    "    float(data[\"Valor Restos a Pagar Inscritos (R$)\"].sum()),\r\n",
    "    float(data[\"Valor Restos a Pagar Cancelado (R$)\"].sum()),\r\n",
    "    float(data[\"Valor Restos a Pagar Pagos (R$)\"].sum())\r\n",
    "]\r\n",
    "\r\n",
    "fig2, ax2 = plt.subplots()\r\n",
    "fig2.set_size_inches(11, 5)\r\n",
    "hbars2 = ax2.barh(labels, valor_total, color='green')\r\n",
    "\r\n",
    "ax2.set_xlabel('Valor (em reais)')\r\n",
    "ax2.set_title('Valores')\r\n",
    "ax2.set_xlim(0, 31469818.08)\r\n",
    "ax2.set_xticks([0])\r\n",
    "ax2.invert_yaxis()\r\n",
    "ax2.bar_label(hbars2,\r\n",
    "            labels=[\r\n",
    "                locale.currency(valor_total[0], grouping=True, symbol=True),\r\n",
    "                locale.currency(valor_total[1], grouping=True, symbol=True),\r\n",
    "                locale.currency(valor_total[2], grouping=True, symbol=True),\r\n",
    "                locale.currency(valor_total[3], grouping=True, symbol=True),\r\n",
    "                locale.currency(valor_total[4], grouping=True, symbol=True),\r\n",
    "                locale.currency(valor_total[5], grouping=True, symbol=True)\r\n",
    "            ], \r\n",
    "            padding=10, \r\n",
    "            color='r', \r\n",
    "            fontsize=14\r\n",
    ")\r\n",
    "\r\n",
    "plt.show()"
   ],
   "outputs": [
    {
     "output_type": "display_data",
     "data": {
      "image/png": "[encoded data removed]",
      "text/plain": [
       "<Figure size 792x360 with 1 Axes>"
      ]
     },
     "metadata": {
      "needs_background": "light"
     }
    }
   ],
   "metadata": {}
  }
 ],
 "metadata": {
  "orig_nbformat": 4,
  "language_info": {
   "name": "python",
   "version": "3.9.1",
   "mimetype": "text/x-python",
   "codemirror_mode": {
    "name": "ipython",
    "version": 3
   },
   "pygments_lexer": "ipython3",
   "nbconvert_exporter": "python",
   "file_extension": ".py"
  },
  "kernelspec": {
   "name": "python3",
   "display_name": "Python 3.9.1 64-bit"
  },
  "interpreter": {
   "hash": "841a80f8fbabd838c5e0037d704b2cb7773976eb35f4a87fb8cc9a417e205d6f"
  }
 },
 "nbformat": 4,
 "nbformat_minor": 2
}